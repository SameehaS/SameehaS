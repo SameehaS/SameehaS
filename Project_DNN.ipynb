{
  "nbformat": 4,
  "nbformat_minor": 0,
  "metadata": {
    "colab": {
      "name": "Project DNN.ipynb",
      "provenance": [],
      "collapsed_sections": []
    },
    "kernelspec": {
      "name": "python3",
      "display_name": "Python 3"
    }
  },
  "cells": [
    {
      "cell_type": "markdown",
      "metadata": {
        "id": "iBW44bB3j7DS"
      },
      "source": [
        "**Import Libraries and read the dataset**"
      ]
    },
    {
      "cell_type": "code",
      "metadata": {
        "id": "5Xh8-378eIXi"
      },
      "source": [
        "import numpy as np\n",
        "import pandas as pd\n",
        "from sklearn import metrics\n",
        "import matplotlib.pyplot as plt\n",
        "%matplotlib inline\n",
        "from sklearn.model_selection import train_test_split\n",
        "from sklearn import preprocessing\n",
        "import tensorflow as tf\n",
        "# Using Tensorflow Keras instead of the original Keras\n",
        "\n",
        "from tensorflow.keras.datasets import mnist\n",
        "from tensorflow.keras import Sequential\n",
        "from tensorflow.keras.layers import Dense, Dropout, BatchNormalization\n",
        "from sklearn.metrics import accuracy_score, confusion_matrix, precision_score, recall_score, f1_score, precision_recall_curve, auc\n",
        "import matplotlib.pyplot as plt\n",
        "from tensorflow.keras import optimizers\n",
        "from google.colab import drive"
      ],
      "execution_count": 141,
      "outputs": []
    },
    {
      "cell_type": "code",
      "metadata": {
        "id": "5yDT6KIemJI9",
        "colab": {
          "base_uri": "https://localhost:8080/"
        },
        "outputId": "b3a01390-b76b-4826-bdec-47f61ca9a336"
      },
      "source": [
        "drive.mount('/content/drive/')\n",
        "project_path = '/content/drive/My Drive/Colab Notebooks/'\n",
        "dataset_file = project_path + 'bank.csv'"
      ],
      "execution_count": 142,
      "outputs": [
        {
          "output_type": "stream",
          "text": [
            "Drive already mounted at /content/drive/; to attempt to forcibly remount, call drive.mount(\"/content/drive/\", force_remount=True).\n"
          ],
          "name": "stdout"
        }
      ]
    },
    {
      "cell_type": "code",
      "metadata": {
        "id": "jXa7tfbwem7I",
        "colab": {
          "base_uri": "https://localhost:8080/"
        },
        "outputId": "32e491a7-8bd6-4fa7-ffe1-8284f4c4a327"
      },
      "source": [
        "# reading the CSV file into pandas dataframe\n",
        "df = pd.read_csv(dataset_file)  \n",
        "\n",
        "pd.isnull(df).count()"
      ],
      "execution_count": 143,
      "outputs": [
        {
          "output_type": "execute_result",
          "data": {
            "text/plain": [
              "RowNumber          10000\n",
              "CustomerId         10000\n",
              "Surname            10000\n",
              "CreditScore        10000\n",
              "Geography          10000\n",
              "Gender             10000\n",
              "Age                10000\n",
              "Tenure             10000\n",
              "Balance            10000\n",
              "NumOfProducts      10000\n",
              "HasCrCard          10000\n",
              "IsActiveMember     10000\n",
              "EstimatedSalary    10000\n",
              "Exited             10000\n",
              "dtype: int64"
            ]
          },
          "metadata": {
            "tags": []
          },
          "execution_count": 143
        }
      ]
    },
    {
      "cell_type": "code",
      "metadata": {
        "id": "TwiA7yOGenGX",
        "colab": {
          "base_uri": "https://localhost:8080/",
          "height": 195
        },
        "outputId": "555cbb5f-8176-4e74-feba-c68aab657ce0"
      },
      "source": [
        "df.head()"
      ],
      "execution_count": 144,
      "outputs": [
        {
          "output_type": "execute_result",
          "data": {
            "text/html": [
              "<div>\n",
              "<style scoped>\n",
              "    .dataframe tbody tr th:only-of-type {\n",
              "        vertical-align: middle;\n",
              "    }\n",
              "\n",
              "    .dataframe tbody tr th {\n",
              "        vertical-align: top;\n",
              "    }\n",
              "\n",
              "    .dataframe thead th {\n",
              "        text-align: right;\n",
              "    }\n",
              "</style>\n",
              "<table border=\"1\" class=\"dataframe\">\n",
              "  <thead>\n",
              "    <tr style=\"text-align: right;\">\n",
              "      <th></th>\n",
              "      <th>RowNumber</th>\n",
              "      <th>CustomerId</th>\n",
              "      <th>Surname</th>\n",
              "      <th>CreditScore</th>\n",
              "      <th>Geography</th>\n",
              "      <th>Gender</th>\n",
              "      <th>Age</th>\n",
              "      <th>Tenure</th>\n",
              "      <th>Balance</th>\n",
              "      <th>NumOfProducts</th>\n",
              "      <th>HasCrCard</th>\n",
              "      <th>IsActiveMember</th>\n",
              "      <th>EstimatedSalary</th>\n",
              "      <th>Exited</th>\n",
              "    </tr>\n",
              "  </thead>\n",
              "  <tbody>\n",
              "    <tr>\n",
              "      <th>0</th>\n",
              "      <td>1</td>\n",
              "      <td>15634602</td>\n",
              "      <td>Hargrave</td>\n",
              "      <td>619</td>\n",
              "      <td>France</td>\n",
              "      <td>Female</td>\n",
              "      <td>42</td>\n",
              "      <td>2</td>\n",
              "      <td>0.00</td>\n",
              "      <td>1</td>\n",
              "      <td>1</td>\n",
              "      <td>1</td>\n",
              "      <td>101348.88</td>\n",
              "      <td>1</td>\n",
              "    </tr>\n",
              "    <tr>\n",
              "      <th>1</th>\n",
              "      <td>2</td>\n",
              "      <td>15647311</td>\n",
              "      <td>Hill</td>\n",
              "      <td>608</td>\n",
              "      <td>Spain</td>\n",
              "      <td>Female</td>\n",
              "      <td>41</td>\n",
              "      <td>1</td>\n",
              "      <td>83807.86</td>\n",
              "      <td>1</td>\n",
              "      <td>0</td>\n",
              "      <td>1</td>\n",
              "      <td>112542.58</td>\n",
              "      <td>0</td>\n",
              "    </tr>\n",
              "    <tr>\n",
              "      <th>2</th>\n",
              "      <td>3</td>\n",
              "      <td>15619304</td>\n",
              "      <td>Onio</td>\n",
              "      <td>502</td>\n",
              "      <td>France</td>\n",
              "      <td>Female</td>\n",
              "      <td>42</td>\n",
              "      <td>8</td>\n",
              "      <td>159660.80</td>\n",
              "      <td>3</td>\n",
              "      <td>1</td>\n",
              "      <td>0</td>\n",
              "      <td>113931.57</td>\n",
              "      <td>1</td>\n",
              "    </tr>\n",
              "    <tr>\n",
              "      <th>3</th>\n",
              "      <td>4</td>\n",
              "      <td>15701354</td>\n",
              "      <td>Boni</td>\n",
              "      <td>699</td>\n",
              "      <td>France</td>\n",
              "      <td>Female</td>\n",
              "      <td>39</td>\n",
              "      <td>1</td>\n",
              "      <td>0.00</td>\n",
              "      <td>2</td>\n",
              "      <td>0</td>\n",
              "      <td>0</td>\n",
              "      <td>93826.63</td>\n",
              "      <td>0</td>\n",
              "    </tr>\n",
              "    <tr>\n",
              "      <th>4</th>\n",
              "      <td>5</td>\n",
              "      <td>15737888</td>\n",
              "      <td>Mitchell</td>\n",
              "      <td>850</td>\n",
              "      <td>Spain</td>\n",
              "      <td>Female</td>\n",
              "      <td>43</td>\n",
              "      <td>2</td>\n",
              "      <td>125510.82</td>\n",
              "      <td>1</td>\n",
              "      <td>1</td>\n",
              "      <td>1</td>\n",
              "      <td>79084.10</td>\n",
              "      <td>0</td>\n",
              "    </tr>\n",
              "  </tbody>\n",
              "</table>\n",
              "</div>"
            ],
            "text/plain": [
              "   RowNumber  CustomerId   Surname  ...  IsActiveMember EstimatedSalary Exited\n",
              "0          1    15634602  Hargrave  ...               1       101348.88      1\n",
              "1          2    15647311      Hill  ...               1       112542.58      0\n",
              "2          3    15619304      Onio  ...               0       113931.57      1\n",
              "3          4    15701354      Boni  ...               0        93826.63      0\n",
              "4          5    15737888  Mitchell  ...               1        79084.10      0\n",
              "\n",
              "[5 rows x 14 columns]"
            ]
          },
          "metadata": {
            "tags": []
          },
          "execution_count": 144
        }
      ]
    },
    {
      "cell_type": "markdown",
      "metadata": {
        "id": "BtkphwJEkIX9"
      },
      "source": [
        "**Perform basic data exporation**"
      ]
    },
    {
      "cell_type": "code",
      "metadata": {
        "id": "MkSRo1FlenM7",
        "colab": {
          "base_uri": "https://localhost:8080/"
        },
        "outputId": "22df4b7f-9443-4abb-fd6a-fe609b6e48b4"
      },
      "source": [
        "df.shape"
      ],
      "execution_count": 145,
      "outputs": [
        {
          "output_type": "execute_result",
          "data": {
            "text/plain": [
              "(10000, 14)"
            ]
          },
          "metadata": {
            "tags": []
          },
          "execution_count": 145
        }
      ]
    },
    {
      "cell_type": "code",
      "metadata": {
        "id": "Y1FPzflnenMd",
        "colab": {
          "base_uri": "https://localhost:8080/",
          "height": 284
        },
        "outputId": "b7b3a751-11fe-4a27-f1a7-bf37814beeb0"
      },
      "source": [
        "df.describe()"
      ],
      "execution_count": 146,
      "outputs": [
        {
          "output_type": "execute_result",
          "data": {
            "text/html": [
              "<div>\n",
              "<style scoped>\n",
              "    .dataframe tbody tr th:only-of-type {\n",
              "        vertical-align: middle;\n",
              "    }\n",
              "\n",
              "    .dataframe tbody tr th {\n",
              "        vertical-align: top;\n",
              "    }\n",
              "\n",
              "    .dataframe thead th {\n",
              "        text-align: right;\n",
              "    }\n",
              "</style>\n",
              "<table border=\"1\" class=\"dataframe\">\n",
              "  <thead>\n",
              "    <tr style=\"text-align: right;\">\n",
              "      <th></th>\n",
              "      <th>RowNumber</th>\n",
              "      <th>CustomerId</th>\n",
              "      <th>CreditScore</th>\n",
              "      <th>Age</th>\n",
              "      <th>Tenure</th>\n",
              "      <th>Balance</th>\n",
              "      <th>NumOfProducts</th>\n",
              "      <th>HasCrCard</th>\n",
              "      <th>IsActiveMember</th>\n",
              "      <th>EstimatedSalary</th>\n",
              "      <th>Exited</th>\n",
              "    </tr>\n",
              "  </thead>\n",
              "  <tbody>\n",
              "    <tr>\n",
              "      <th>count</th>\n",
              "      <td>10000.00000</td>\n",
              "      <td>1.000000e+04</td>\n",
              "      <td>10000.000000</td>\n",
              "      <td>10000.000000</td>\n",
              "      <td>10000.000000</td>\n",
              "      <td>10000.000000</td>\n",
              "      <td>10000.000000</td>\n",
              "      <td>10000.00000</td>\n",
              "      <td>10000.000000</td>\n",
              "      <td>10000.000000</td>\n",
              "      <td>10000.000000</td>\n",
              "    </tr>\n",
              "    <tr>\n",
              "      <th>mean</th>\n",
              "      <td>5000.50000</td>\n",
              "      <td>1.569094e+07</td>\n",
              "      <td>650.528800</td>\n",
              "      <td>38.921800</td>\n",
              "      <td>5.012800</td>\n",
              "      <td>76485.889288</td>\n",
              "      <td>1.530200</td>\n",
              "      <td>0.70550</td>\n",
              "      <td>0.515100</td>\n",
              "      <td>100090.239881</td>\n",
              "      <td>0.203700</td>\n",
              "    </tr>\n",
              "    <tr>\n",
              "      <th>std</th>\n",
              "      <td>2886.89568</td>\n",
              "      <td>7.193619e+04</td>\n",
              "      <td>96.653299</td>\n",
              "      <td>10.487806</td>\n",
              "      <td>2.892174</td>\n",
              "      <td>62397.405202</td>\n",
              "      <td>0.581654</td>\n",
              "      <td>0.45584</td>\n",
              "      <td>0.499797</td>\n",
              "      <td>57510.492818</td>\n",
              "      <td>0.402769</td>\n",
              "    </tr>\n",
              "    <tr>\n",
              "      <th>min</th>\n",
              "      <td>1.00000</td>\n",
              "      <td>1.556570e+07</td>\n",
              "      <td>350.000000</td>\n",
              "      <td>18.000000</td>\n",
              "      <td>0.000000</td>\n",
              "      <td>0.000000</td>\n",
              "      <td>1.000000</td>\n",
              "      <td>0.00000</td>\n",
              "      <td>0.000000</td>\n",
              "      <td>11.580000</td>\n",
              "      <td>0.000000</td>\n",
              "    </tr>\n",
              "    <tr>\n",
              "      <th>25%</th>\n",
              "      <td>2500.75000</td>\n",
              "      <td>1.562853e+07</td>\n",
              "      <td>584.000000</td>\n",
              "      <td>32.000000</td>\n",
              "      <td>3.000000</td>\n",
              "      <td>0.000000</td>\n",
              "      <td>1.000000</td>\n",
              "      <td>0.00000</td>\n",
              "      <td>0.000000</td>\n",
              "      <td>51002.110000</td>\n",
              "      <td>0.000000</td>\n",
              "    </tr>\n",
              "    <tr>\n",
              "      <th>50%</th>\n",
              "      <td>5000.50000</td>\n",
              "      <td>1.569074e+07</td>\n",
              "      <td>652.000000</td>\n",
              "      <td>37.000000</td>\n",
              "      <td>5.000000</td>\n",
              "      <td>97198.540000</td>\n",
              "      <td>1.000000</td>\n",
              "      <td>1.00000</td>\n",
              "      <td>1.000000</td>\n",
              "      <td>100193.915000</td>\n",
              "      <td>0.000000</td>\n",
              "    </tr>\n",
              "    <tr>\n",
              "      <th>75%</th>\n",
              "      <td>7500.25000</td>\n",
              "      <td>1.575323e+07</td>\n",
              "      <td>718.000000</td>\n",
              "      <td>44.000000</td>\n",
              "      <td>7.000000</td>\n",
              "      <td>127644.240000</td>\n",
              "      <td>2.000000</td>\n",
              "      <td>1.00000</td>\n",
              "      <td>1.000000</td>\n",
              "      <td>149388.247500</td>\n",
              "      <td>0.000000</td>\n",
              "    </tr>\n",
              "    <tr>\n",
              "      <th>max</th>\n",
              "      <td>10000.00000</td>\n",
              "      <td>1.581569e+07</td>\n",
              "      <td>850.000000</td>\n",
              "      <td>92.000000</td>\n",
              "      <td>10.000000</td>\n",
              "      <td>250898.090000</td>\n",
              "      <td>4.000000</td>\n",
              "      <td>1.00000</td>\n",
              "      <td>1.000000</td>\n",
              "      <td>199992.480000</td>\n",
              "      <td>1.000000</td>\n",
              "    </tr>\n",
              "  </tbody>\n",
              "</table>\n",
              "</div>"
            ],
            "text/plain": [
              "         RowNumber    CustomerId  ...  EstimatedSalary        Exited\n",
              "count  10000.00000  1.000000e+04  ...     10000.000000  10000.000000\n",
              "mean    5000.50000  1.569094e+07  ...    100090.239881      0.203700\n",
              "std     2886.89568  7.193619e+04  ...     57510.492818      0.402769\n",
              "min        1.00000  1.556570e+07  ...        11.580000      0.000000\n",
              "25%     2500.75000  1.562853e+07  ...     51002.110000      0.000000\n",
              "50%     5000.50000  1.569074e+07  ...    100193.915000      0.000000\n",
              "75%     7500.25000  1.575323e+07  ...    149388.247500      0.000000\n",
              "max    10000.00000  1.581569e+07  ...    199992.480000      1.000000\n",
              "\n",
              "[8 rows x 11 columns]"
            ]
          },
          "metadata": {
            "tags": []
          },
          "execution_count": 146
        }
      ]
    },
    {
      "cell_type": "code",
      "metadata": {
        "id": "Ft5CuEVrenF9",
        "colab": {
          "base_uri": "https://localhost:8080/"
        },
        "outputId": "89788df7-7018-418d-e786-4756941ede71"
      },
      "source": [
        "df.info()"
      ],
      "execution_count": 147,
      "outputs": [
        {
          "output_type": "stream",
          "text": [
            "<class 'pandas.core.frame.DataFrame'>\n",
            "RangeIndex: 10000 entries, 0 to 9999\n",
            "Data columns (total 14 columns):\n",
            " #   Column           Non-Null Count  Dtype  \n",
            "---  ------           --------------  -----  \n",
            " 0   RowNumber        10000 non-null  int64  \n",
            " 1   CustomerId       10000 non-null  int64  \n",
            " 2   Surname          10000 non-null  object \n",
            " 3   CreditScore      10000 non-null  int64  \n",
            " 4   Geography        10000 non-null  object \n",
            " 5   Gender           10000 non-null  object \n",
            " 6   Age              10000 non-null  int64  \n",
            " 7   Tenure           10000 non-null  int64  \n",
            " 8   Balance          10000 non-null  float64\n",
            " 9   NumOfProducts    10000 non-null  int64  \n",
            " 10  HasCrCard        10000 non-null  int64  \n",
            " 11  IsActiveMember   10000 non-null  int64  \n",
            " 12  EstimatedSalary  10000 non-null  float64\n",
            " 13  Exited           10000 non-null  int64  \n",
            "dtypes: float64(2), int64(9), object(3)\n",
            "memory usage: 1.1+ MB\n"
          ],
          "name": "stdout"
        }
      ]
    },
    {
      "cell_type": "markdown",
      "metadata": {
        "id": "pIuvoyLQkUb1"
      },
      "source": [
        "**2. Drop the columns which are unique for all users like IDs (5 points)**"
      ]
    },
    {
      "cell_type": "code",
      "metadata": {
        "id": "5vrdUY29iK3f"
      },
      "source": [
        "df  = df.drop(\"RowNumber\" , axis=1)\n",
        "df  = df.drop(\"CustomerId\" , axis=1)\n",
        "df  = df.drop(\"Surname\" , axis=1)"
      ],
      "execution_count": 148,
      "outputs": []
    },
    {
      "cell_type": "code",
      "metadata": {
        "id": "bAegVDSdifS3",
        "colab": {
          "base_uri": "https://localhost:8080/",
          "height": 402
        },
        "outputId": "4a4f1aa1-0838-4ec6-eb3a-06cf3fe8b46b"
      },
      "source": [
        "df"
      ],
      "execution_count": 149,
      "outputs": [
        {
          "output_type": "execute_result",
          "data": {
            "text/html": [
              "<div>\n",
              "<style scoped>\n",
              "    .dataframe tbody tr th:only-of-type {\n",
              "        vertical-align: middle;\n",
              "    }\n",
              "\n",
              "    .dataframe tbody tr th {\n",
              "        vertical-align: top;\n",
              "    }\n",
              "\n",
              "    .dataframe thead th {\n",
              "        text-align: right;\n",
              "    }\n",
              "</style>\n",
              "<table border=\"1\" class=\"dataframe\">\n",
              "  <thead>\n",
              "    <tr style=\"text-align: right;\">\n",
              "      <th></th>\n",
              "      <th>CreditScore</th>\n",
              "      <th>Geography</th>\n",
              "      <th>Gender</th>\n",
              "      <th>Age</th>\n",
              "      <th>Tenure</th>\n",
              "      <th>Balance</th>\n",
              "      <th>NumOfProducts</th>\n",
              "      <th>HasCrCard</th>\n",
              "      <th>IsActiveMember</th>\n",
              "      <th>EstimatedSalary</th>\n",
              "      <th>Exited</th>\n",
              "    </tr>\n",
              "  </thead>\n",
              "  <tbody>\n",
              "    <tr>\n",
              "      <th>0</th>\n",
              "      <td>619</td>\n",
              "      <td>France</td>\n",
              "      <td>Female</td>\n",
              "      <td>42</td>\n",
              "      <td>2</td>\n",
              "      <td>0.00</td>\n",
              "      <td>1</td>\n",
              "      <td>1</td>\n",
              "      <td>1</td>\n",
              "      <td>101348.88</td>\n",
              "      <td>1</td>\n",
              "    </tr>\n",
              "    <tr>\n",
              "      <th>1</th>\n",
              "      <td>608</td>\n",
              "      <td>Spain</td>\n",
              "      <td>Female</td>\n",
              "      <td>41</td>\n",
              "      <td>1</td>\n",
              "      <td>83807.86</td>\n",
              "      <td>1</td>\n",
              "      <td>0</td>\n",
              "      <td>1</td>\n",
              "      <td>112542.58</td>\n",
              "      <td>0</td>\n",
              "    </tr>\n",
              "    <tr>\n",
              "      <th>2</th>\n",
              "      <td>502</td>\n",
              "      <td>France</td>\n",
              "      <td>Female</td>\n",
              "      <td>42</td>\n",
              "      <td>8</td>\n",
              "      <td>159660.80</td>\n",
              "      <td>3</td>\n",
              "      <td>1</td>\n",
              "      <td>0</td>\n",
              "      <td>113931.57</td>\n",
              "      <td>1</td>\n",
              "    </tr>\n",
              "    <tr>\n",
              "      <th>3</th>\n",
              "      <td>699</td>\n",
              "      <td>France</td>\n",
              "      <td>Female</td>\n",
              "      <td>39</td>\n",
              "      <td>1</td>\n",
              "      <td>0.00</td>\n",
              "      <td>2</td>\n",
              "      <td>0</td>\n",
              "      <td>0</td>\n",
              "      <td>93826.63</td>\n",
              "      <td>0</td>\n",
              "    </tr>\n",
              "    <tr>\n",
              "      <th>4</th>\n",
              "      <td>850</td>\n",
              "      <td>Spain</td>\n",
              "      <td>Female</td>\n",
              "      <td>43</td>\n",
              "      <td>2</td>\n",
              "      <td>125510.82</td>\n",
              "      <td>1</td>\n",
              "      <td>1</td>\n",
              "      <td>1</td>\n",
              "      <td>79084.10</td>\n",
              "      <td>0</td>\n",
              "    </tr>\n",
              "    <tr>\n",
              "      <th>...</th>\n",
              "      <td>...</td>\n",
              "      <td>...</td>\n",
              "      <td>...</td>\n",
              "      <td>...</td>\n",
              "      <td>...</td>\n",
              "      <td>...</td>\n",
              "      <td>...</td>\n",
              "      <td>...</td>\n",
              "      <td>...</td>\n",
              "      <td>...</td>\n",
              "      <td>...</td>\n",
              "    </tr>\n",
              "    <tr>\n",
              "      <th>9995</th>\n",
              "      <td>771</td>\n",
              "      <td>France</td>\n",
              "      <td>Male</td>\n",
              "      <td>39</td>\n",
              "      <td>5</td>\n",
              "      <td>0.00</td>\n",
              "      <td>2</td>\n",
              "      <td>1</td>\n",
              "      <td>0</td>\n",
              "      <td>96270.64</td>\n",
              "      <td>0</td>\n",
              "    </tr>\n",
              "    <tr>\n",
              "      <th>9996</th>\n",
              "      <td>516</td>\n",
              "      <td>France</td>\n",
              "      <td>Male</td>\n",
              "      <td>35</td>\n",
              "      <td>10</td>\n",
              "      <td>57369.61</td>\n",
              "      <td>1</td>\n",
              "      <td>1</td>\n",
              "      <td>1</td>\n",
              "      <td>101699.77</td>\n",
              "      <td>0</td>\n",
              "    </tr>\n",
              "    <tr>\n",
              "      <th>9997</th>\n",
              "      <td>709</td>\n",
              "      <td>France</td>\n",
              "      <td>Female</td>\n",
              "      <td>36</td>\n",
              "      <td>7</td>\n",
              "      <td>0.00</td>\n",
              "      <td>1</td>\n",
              "      <td>0</td>\n",
              "      <td>1</td>\n",
              "      <td>42085.58</td>\n",
              "      <td>1</td>\n",
              "    </tr>\n",
              "    <tr>\n",
              "      <th>9998</th>\n",
              "      <td>772</td>\n",
              "      <td>Germany</td>\n",
              "      <td>Male</td>\n",
              "      <td>42</td>\n",
              "      <td>3</td>\n",
              "      <td>75075.31</td>\n",
              "      <td>2</td>\n",
              "      <td>1</td>\n",
              "      <td>0</td>\n",
              "      <td>92888.52</td>\n",
              "      <td>1</td>\n",
              "    </tr>\n",
              "    <tr>\n",
              "      <th>9999</th>\n",
              "      <td>792</td>\n",
              "      <td>France</td>\n",
              "      <td>Female</td>\n",
              "      <td>28</td>\n",
              "      <td>4</td>\n",
              "      <td>130142.79</td>\n",
              "      <td>1</td>\n",
              "      <td>1</td>\n",
              "      <td>0</td>\n",
              "      <td>38190.78</td>\n",
              "      <td>0</td>\n",
              "    </tr>\n",
              "  </tbody>\n",
              "</table>\n",
              "<p>10000 rows × 11 columns</p>\n",
              "</div>"
            ],
            "text/plain": [
              "      CreditScore Geography  Gender  ...  IsActiveMember  EstimatedSalary  Exited\n",
              "0             619    France  Female  ...               1        101348.88       1\n",
              "1             608     Spain  Female  ...               1        112542.58       0\n",
              "2             502    France  Female  ...               0        113931.57       1\n",
              "3             699    France  Female  ...               0         93826.63       0\n",
              "4             850     Spain  Female  ...               1         79084.10       0\n",
              "...           ...       ...     ...  ...             ...              ...     ...\n",
              "9995          771    France    Male  ...               0         96270.64       0\n",
              "9996          516    France    Male  ...               1        101699.77       0\n",
              "9997          709    France  Female  ...               1         42085.58       1\n",
              "9998          772   Germany    Male  ...               0         92888.52       1\n",
              "9999          792    France  Female  ...               0         38190.78       0\n",
              "\n",
              "[10000 rows x 11 columns]"
            ]
          },
          "metadata": {
            "tags": []
          },
          "execution_count": 149
        }
      ]
    },
    {
      "cell_type": "code",
      "metadata": {
        "id": "lRtGxko1igP1",
        "colab": {
          "base_uri": "https://localhost:8080/"
        },
        "outputId": "5f66896e-9af2-4cec-c4dd-a2c06b320d21"
      },
      "source": [
        "df.isna().sum()"
      ],
      "execution_count": 150,
      "outputs": [
        {
          "output_type": "execute_result",
          "data": {
            "text/plain": [
              "CreditScore        0\n",
              "Geography          0\n",
              "Gender             0\n",
              "Age                0\n",
              "Tenure             0\n",
              "Balance            0\n",
              "NumOfProducts      0\n",
              "HasCrCard          0\n",
              "IsActiveMember     0\n",
              "EstimatedSalary    0\n",
              "Exited             0\n",
              "dtype: int64"
            ]
          },
          "metadata": {
            "tags": []
          },
          "execution_count": 150
        }
      ]
    },
    {
      "cell_type": "markdown",
      "metadata": {
        "id": "P_cOokAskhpS"
      },
      "source": [
        "**3. Distinguish the feature and target set (5 points)**\n",
        "Here, our target variable is 'Exited' and rest are the feature set."
      ]
    },
    {
      "cell_type": "code",
      "metadata": {
        "id": "1bQzVBT3ksBU"
      },
      "source": [
        "X_data = df.iloc[:, 1:-1]\n",
        "y_data = df.iloc[:, -1]"
      ],
      "execution_count": 151,
      "outputs": []
    },
    {
      "cell_type": "code",
      "metadata": {
        "id": "_O7sFx9Kk6RM",
        "colab": {
          "base_uri": "https://localhost:8080/"
        },
        "outputId": "5bef6ecb-e8cb-4f93-c925-f2fcd8bf9aef"
      },
      "source": [
        "X_data.shape\n"
      ],
      "execution_count": 152,
      "outputs": [
        {
          "output_type": "execute_result",
          "data": {
            "text/plain": [
              "(10000, 9)"
            ]
          },
          "metadata": {
            "tags": []
          },
          "execution_count": 152
        }
      ]
    },
    {
      "cell_type": "code",
      "metadata": {
        "id": "GuCx4NzZk6Ws",
        "colab": {
          "base_uri": "https://localhost:8080/"
        },
        "outputId": "dd60dfa0-11b3-4ab5-c86e-ae444303fc69"
      },
      "source": [
        "y_data.shape"
      ],
      "execution_count": 153,
      "outputs": [
        {
          "output_type": "execute_result",
          "data": {
            "text/plain": [
              "(10000,)"
            ]
          },
          "metadata": {
            "tags": []
          },
          "execution_count": 153
        }
      ]
    },
    {
      "cell_type": "code",
      "metadata": {
        "id": "A-Wzj3JOk6a-",
        "colab": {
          "base_uri": "https://localhost:8080/"
        },
        "outputId": "e2efefc6-909c-4c82-8cd1-8869aa2a5041"
      },
      "source": [
        "y_data.head()"
      ],
      "execution_count": 154,
      "outputs": [
        {
          "output_type": "execute_result",
          "data": {
            "text/plain": [
              "0    1\n",
              "1    0\n",
              "2    1\n",
              "3    0\n",
              "4    0\n",
              "Name: Exited, dtype: int64"
            ]
          },
          "metadata": {
            "tags": []
          },
          "execution_count": 154
        }
      ]
    },
    {
      "cell_type": "code",
      "metadata": {
        "id": "DPCQq0KkoGME",
        "colab": {
          "base_uri": "https://localhost:8080/"
        },
        "outputId": "db0e5748-919a-4fc2-d3d7-3890f8e52699"
      },
      "source": [
        "y_data.value_counts()"
      ],
      "execution_count": 155,
      "outputs": [
        {
          "output_type": "execute_result",
          "data": {
            "text/plain": [
              "0    7963\n",
              "1    2037\n",
              "Name: Exited, dtype: int64"
            ]
          },
          "metadata": {
            "tags": []
          },
          "execution_count": 155
        }
      ]
    },
    {
      "cell_type": "code",
      "metadata": {
        "id": "QFFTvKu4k6aY",
        "colab": {
          "base_uri": "https://localhost:8080/",
          "height": 195
        },
        "outputId": "ec1eab05-1c68-4ab8-d319-b008e84066cd"
      },
      "source": [
        "X_data.head()"
      ],
      "execution_count": 156,
      "outputs": [
        {
          "output_type": "execute_result",
          "data": {
            "text/html": [
              "<div>\n",
              "<style scoped>\n",
              "    .dataframe tbody tr th:only-of-type {\n",
              "        vertical-align: middle;\n",
              "    }\n",
              "\n",
              "    .dataframe tbody tr th {\n",
              "        vertical-align: top;\n",
              "    }\n",
              "\n",
              "    .dataframe thead th {\n",
              "        text-align: right;\n",
              "    }\n",
              "</style>\n",
              "<table border=\"1\" class=\"dataframe\">\n",
              "  <thead>\n",
              "    <tr style=\"text-align: right;\">\n",
              "      <th></th>\n",
              "      <th>Geography</th>\n",
              "      <th>Gender</th>\n",
              "      <th>Age</th>\n",
              "      <th>Tenure</th>\n",
              "      <th>Balance</th>\n",
              "      <th>NumOfProducts</th>\n",
              "      <th>HasCrCard</th>\n",
              "      <th>IsActiveMember</th>\n",
              "      <th>EstimatedSalary</th>\n",
              "    </tr>\n",
              "  </thead>\n",
              "  <tbody>\n",
              "    <tr>\n",
              "      <th>0</th>\n",
              "      <td>France</td>\n",
              "      <td>Female</td>\n",
              "      <td>42</td>\n",
              "      <td>2</td>\n",
              "      <td>0.00</td>\n",
              "      <td>1</td>\n",
              "      <td>1</td>\n",
              "      <td>1</td>\n",
              "      <td>101348.88</td>\n",
              "    </tr>\n",
              "    <tr>\n",
              "      <th>1</th>\n",
              "      <td>Spain</td>\n",
              "      <td>Female</td>\n",
              "      <td>41</td>\n",
              "      <td>1</td>\n",
              "      <td>83807.86</td>\n",
              "      <td>1</td>\n",
              "      <td>0</td>\n",
              "      <td>1</td>\n",
              "      <td>112542.58</td>\n",
              "    </tr>\n",
              "    <tr>\n",
              "      <th>2</th>\n",
              "      <td>France</td>\n",
              "      <td>Female</td>\n",
              "      <td>42</td>\n",
              "      <td>8</td>\n",
              "      <td>159660.80</td>\n",
              "      <td>3</td>\n",
              "      <td>1</td>\n",
              "      <td>0</td>\n",
              "      <td>113931.57</td>\n",
              "    </tr>\n",
              "    <tr>\n",
              "      <th>3</th>\n",
              "      <td>France</td>\n",
              "      <td>Female</td>\n",
              "      <td>39</td>\n",
              "      <td>1</td>\n",
              "      <td>0.00</td>\n",
              "      <td>2</td>\n",
              "      <td>0</td>\n",
              "      <td>0</td>\n",
              "      <td>93826.63</td>\n",
              "    </tr>\n",
              "    <tr>\n",
              "      <th>4</th>\n",
              "      <td>Spain</td>\n",
              "      <td>Female</td>\n",
              "      <td>43</td>\n",
              "      <td>2</td>\n",
              "      <td>125510.82</td>\n",
              "      <td>1</td>\n",
              "      <td>1</td>\n",
              "      <td>1</td>\n",
              "      <td>79084.10</td>\n",
              "    </tr>\n",
              "  </tbody>\n",
              "</table>\n",
              "</div>"
            ],
            "text/plain": [
              "  Geography  Gender  Age  ...  HasCrCard  IsActiveMember  EstimatedSalary\n",
              "0    France  Female   42  ...          1               1        101348.88\n",
              "1     Spain  Female   41  ...          0               1        112542.58\n",
              "2    France  Female   42  ...          1               0        113931.57\n",
              "3    France  Female   39  ...          0               0         93826.63\n",
              "4     Spain  Female   43  ...          1               1         79084.10\n",
              "\n",
              "[5 rows x 9 columns]"
            ]
          },
          "metadata": {
            "tags": []
          },
          "execution_count": 156
        }
      ]
    },
    {
      "cell_type": "markdown",
      "metadata": {
        "id": "AmU3zfOn_qMx"
      },
      "source": [
        "*Using one hot encoding and replacing object fields with numerical values to represent the same.*"
      ]
    },
    {
      "cell_type": "code",
      "metadata": {
        "id": "ROq6DddDYcj6"
      },
      "source": [
        "replaceStruct = {\n",
        "                \"Geography\": {\"France\": 1, \"Germany\": 2 ,\"Spain\": 3},\n",
        "                \"Gender\": {\"Female\": 0, \"Male\": 1}, \n",
        "                }\n",
        "oneHotCols=[\"Geography\",\"Gender\"]"
      ],
      "execution_count": 157,
      "outputs": []
    },
    {
      "cell_type": "code",
      "metadata": {
        "id": "Tem1ep8FYclt",
        "colab": {
          "base_uri": "https://localhost:8080/",
          "height": 195
        },
        "outputId": "e2667575-0da8-43ff-db9f-0f2d2f24d201"
      },
      "source": [
        "X_data=X_data.replace(replaceStruct)\n",
        "X_data.head()"
      ],
      "execution_count": 158,
      "outputs": [
        {
          "output_type": "execute_result",
          "data": {
            "text/html": [
              "<div>\n",
              "<style scoped>\n",
              "    .dataframe tbody tr th:only-of-type {\n",
              "        vertical-align: middle;\n",
              "    }\n",
              "\n",
              "    .dataframe tbody tr th {\n",
              "        vertical-align: top;\n",
              "    }\n",
              "\n",
              "    .dataframe thead th {\n",
              "        text-align: right;\n",
              "    }\n",
              "</style>\n",
              "<table border=\"1\" class=\"dataframe\">\n",
              "  <thead>\n",
              "    <tr style=\"text-align: right;\">\n",
              "      <th></th>\n",
              "      <th>Geography</th>\n",
              "      <th>Gender</th>\n",
              "      <th>Age</th>\n",
              "      <th>Tenure</th>\n",
              "      <th>Balance</th>\n",
              "      <th>NumOfProducts</th>\n",
              "      <th>HasCrCard</th>\n",
              "      <th>IsActiveMember</th>\n",
              "      <th>EstimatedSalary</th>\n",
              "    </tr>\n",
              "  </thead>\n",
              "  <tbody>\n",
              "    <tr>\n",
              "      <th>0</th>\n",
              "      <td>1</td>\n",
              "      <td>0</td>\n",
              "      <td>42</td>\n",
              "      <td>2</td>\n",
              "      <td>0.00</td>\n",
              "      <td>1</td>\n",
              "      <td>1</td>\n",
              "      <td>1</td>\n",
              "      <td>101348.88</td>\n",
              "    </tr>\n",
              "    <tr>\n",
              "      <th>1</th>\n",
              "      <td>3</td>\n",
              "      <td>0</td>\n",
              "      <td>41</td>\n",
              "      <td>1</td>\n",
              "      <td>83807.86</td>\n",
              "      <td>1</td>\n",
              "      <td>0</td>\n",
              "      <td>1</td>\n",
              "      <td>112542.58</td>\n",
              "    </tr>\n",
              "    <tr>\n",
              "      <th>2</th>\n",
              "      <td>1</td>\n",
              "      <td>0</td>\n",
              "      <td>42</td>\n",
              "      <td>8</td>\n",
              "      <td>159660.80</td>\n",
              "      <td>3</td>\n",
              "      <td>1</td>\n",
              "      <td>0</td>\n",
              "      <td>113931.57</td>\n",
              "    </tr>\n",
              "    <tr>\n",
              "      <th>3</th>\n",
              "      <td>1</td>\n",
              "      <td>0</td>\n",
              "      <td>39</td>\n",
              "      <td>1</td>\n",
              "      <td>0.00</td>\n",
              "      <td>2</td>\n",
              "      <td>0</td>\n",
              "      <td>0</td>\n",
              "      <td>93826.63</td>\n",
              "    </tr>\n",
              "    <tr>\n",
              "      <th>4</th>\n",
              "      <td>3</td>\n",
              "      <td>0</td>\n",
              "      <td>43</td>\n",
              "      <td>2</td>\n",
              "      <td>125510.82</td>\n",
              "      <td>1</td>\n",
              "      <td>1</td>\n",
              "      <td>1</td>\n",
              "      <td>79084.10</td>\n",
              "    </tr>\n",
              "  </tbody>\n",
              "</table>\n",
              "</div>"
            ],
            "text/plain": [
              "   Geography  Gender  Age  ...  HasCrCard  IsActiveMember  EstimatedSalary\n",
              "0          1       0   42  ...          1               1        101348.88\n",
              "1          3       0   41  ...          0               1        112542.58\n",
              "2          1       0   42  ...          1               0        113931.57\n",
              "3          1       0   39  ...          0               0         93826.63\n",
              "4          3       0   43  ...          1               1         79084.10\n",
              "\n",
              "[5 rows x 9 columns]"
            ]
          },
          "metadata": {
            "tags": []
          },
          "execution_count": 158
        }
      ]
    },
    {
      "cell_type": "code",
      "metadata": {
        "id": "xwOGF8G9g07P",
        "colab": {
          "base_uri": "https://localhost:8080/"
        },
        "outputId": "80c03bed-f8dc-4d43-81f5-b447a6493a9e"
      },
      "source": [
        "X_data.info()"
      ],
      "execution_count": 159,
      "outputs": [
        {
          "output_type": "stream",
          "text": [
            "<class 'pandas.core.frame.DataFrame'>\n",
            "RangeIndex: 10000 entries, 0 to 9999\n",
            "Data columns (total 9 columns):\n",
            " #   Column           Non-Null Count  Dtype  \n",
            "---  ------           --------------  -----  \n",
            " 0   Geography        10000 non-null  int64  \n",
            " 1   Gender           10000 non-null  int64  \n",
            " 2   Age              10000 non-null  int64  \n",
            " 3   Tenure           10000 non-null  int64  \n",
            " 4   Balance          10000 non-null  float64\n",
            " 5   NumOfProducts    10000 non-null  int64  \n",
            " 6   HasCrCard        10000 non-null  int64  \n",
            " 7   IsActiveMember   10000 non-null  int64  \n",
            " 8   EstimatedSalary  10000 non-null  float64\n",
            "dtypes: float64(2), int64(7)\n",
            "memory usage: 703.2 KB\n"
          ],
          "name": "stdout"
        }
      ]
    },
    {
      "cell_type": "code",
      "metadata": {
        "id": "4BdvrCw7eUUr",
        "colab": {
          "base_uri": "https://localhost:8080/",
          "height": 195
        },
        "outputId": "5ddf28b1-6959-4f4a-f8c6-23f3497ae404"
      },
      "source": [
        "\n",
        "X_data.head()"
      ],
      "execution_count": 160,
      "outputs": [
        {
          "output_type": "execute_result",
          "data": {
            "text/html": [
              "<div>\n",
              "<style scoped>\n",
              "    .dataframe tbody tr th:only-of-type {\n",
              "        vertical-align: middle;\n",
              "    }\n",
              "\n",
              "    .dataframe tbody tr th {\n",
              "        vertical-align: top;\n",
              "    }\n",
              "\n",
              "    .dataframe thead th {\n",
              "        text-align: right;\n",
              "    }\n",
              "</style>\n",
              "<table border=\"1\" class=\"dataframe\">\n",
              "  <thead>\n",
              "    <tr style=\"text-align: right;\">\n",
              "      <th></th>\n",
              "      <th>Geography</th>\n",
              "      <th>Gender</th>\n",
              "      <th>Age</th>\n",
              "      <th>Tenure</th>\n",
              "      <th>Balance</th>\n",
              "      <th>NumOfProducts</th>\n",
              "      <th>HasCrCard</th>\n",
              "      <th>IsActiveMember</th>\n",
              "      <th>EstimatedSalary</th>\n",
              "    </tr>\n",
              "  </thead>\n",
              "  <tbody>\n",
              "    <tr>\n",
              "      <th>0</th>\n",
              "      <td>1</td>\n",
              "      <td>0</td>\n",
              "      <td>42</td>\n",
              "      <td>2</td>\n",
              "      <td>0.00</td>\n",
              "      <td>1</td>\n",
              "      <td>1</td>\n",
              "      <td>1</td>\n",
              "      <td>101348.88</td>\n",
              "    </tr>\n",
              "    <tr>\n",
              "      <th>1</th>\n",
              "      <td>3</td>\n",
              "      <td>0</td>\n",
              "      <td>41</td>\n",
              "      <td>1</td>\n",
              "      <td>83807.86</td>\n",
              "      <td>1</td>\n",
              "      <td>0</td>\n",
              "      <td>1</td>\n",
              "      <td>112542.58</td>\n",
              "    </tr>\n",
              "    <tr>\n",
              "      <th>2</th>\n",
              "      <td>1</td>\n",
              "      <td>0</td>\n",
              "      <td>42</td>\n",
              "      <td>8</td>\n",
              "      <td>159660.80</td>\n",
              "      <td>3</td>\n",
              "      <td>1</td>\n",
              "      <td>0</td>\n",
              "      <td>113931.57</td>\n",
              "    </tr>\n",
              "    <tr>\n",
              "      <th>3</th>\n",
              "      <td>1</td>\n",
              "      <td>0</td>\n",
              "      <td>39</td>\n",
              "      <td>1</td>\n",
              "      <td>0.00</td>\n",
              "      <td>2</td>\n",
              "      <td>0</td>\n",
              "      <td>0</td>\n",
              "      <td>93826.63</td>\n",
              "    </tr>\n",
              "    <tr>\n",
              "      <th>4</th>\n",
              "      <td>3</td>\n",
              "      <td>0</td>\n",
              "      <td>43</td>\n",
              "      <td>2</td>\n",
              "      <td>125510.82</td>\n",
              "      <td>1</td>\n",
              "      <td>1</td>\n",
              "      <td>1</td>\n",
              "      <td>79084.10</td>\n",
              "    </tr>\n",
              "  </tbody>\n",
              "</table>\n",
              "</div>"
            ],
            "text/plain": [
              "   Geography  Gender  Age  ...  HasCrCard  IsActiveMember  EstimatedSalary\n",
              "0          1       0   42  ...          1               1        101348.88\n",
              "1          3       0   41  ...          0               1        112542.58\n",
              "2          1       0   42  ...          1               0        113931.57\n",
              "3          1       0   39  ...          0               0         93826.63\n",
              "4          3       0   43  ...          1               1         79084.10\n",
              "\n",
              "[5 rows x 9 columns]"
            ]
          },
          "metadata": {
            "tags": []
          },
          "execution_count": 160
        }
      ]
    },
    {
      "cell_type": "markdown",
      "metadata": {
        "id": "L49ePDXClBte"
      },
      "source": [
        "**4. Divide the data set into training and test sets (5 points)**"
      ]
    },
    {
      "cell_type": "code",
      "metadata": {
        "id": "BtGqDnRgk6WM"
      },
      "source": [
        "X_train, X_test, y_train, y_test = train_test_split(X_data, y_data, test_size = 0.2, random_state = 7)"
      ],
      "execution_count": 161,
      "outputs": []
    },
    {
      "cell_type": "markdown",
      "metadata": {
        "id": "75BSVyX9k-Sd"
      },
      "source": [
        "**5. Normalize the train and test data (10 points)**"
      ]
    },
    {
      "cell_type": "markdown",
      "metadata": {
        "id": "Haecv09AANRT"
      },
      "source": [
        "*Normalizing*"
      ]
    },
    {
      "cell_type": "code",
      "metadata": {
        "id": "roVXlNdZk6Qo"
      },
      "source": [
        "X_train = preprocessing.normalize(X_train)"
      ],
      "execution_count": 162,
      "outputs": []
    },
    {
      "cell_type": "code",
      "metadata": {
        "id": "SdYRcjBkoOjt"
      },
      "source": [
        "X_test = preprocessing.normalize(X_test)"
      ],
      "execution_count": 163,
      "outputs": []
    },
    {
      "cell_type": "code",
      "metadata": {
        "id": "PcyUDhBStx_h",
        "colab": {
          "base_uri": "https://localhost:8080/"
        },
        "outputId": "cd097d50-556d-4fa2-ffad-3ae8d13b1517"
      },
      "source": [
        "print(X_train.shape)\n",
        "print(X_test.shape)\n",
        "print(y_train.shape)\n",
        "print(y_test.shape)"
      ],
      "execution_count": 164,
      "outputs": [
        {
          "output_type": "stream",
          "text": [
            "(8000, 9)\n",
            "(2000, 9)\n",
            "(8000,)\n",
            "(2000,)\n"
          ],
          "name": "stdout"
        }
      ]
    },
    {
      "cell_type": "markdown",
      "metadata": {
        "id": "K5t3h449AHUb"
      },
      "source": [
        "*Scaling*"
      ]
    },
    {
      "cell_type": "code",
      "metadata": {
        "id": "Lsi-S2nIc2OT"
      },
      "source": [
        "from sklearn.preprocessing import StandardScaler\n",
        "sc = StandardScaler()\n",
        "X_train = sc.fit_transform(X_train)\n",
        "X_test = sc.transform(X_test)"
      ],
      "execution_count": 165,
      "outputs": []
    },
    {
      "cell_type": "markdown",
      "metadata": {
        "id": "yhH_4tVTlL7n"
      },
      "source": [
        "6. Initialize & build the model. Identify the points of improvement and implement the same the same.(20)"
      ]
    },
    {
      "cell_type": "code",
      "metadata": {
        "id": "J1qEGZeWwFe6"
      },
      "source": [
        "from tensorflow import keras\n",
        "import keras\n",
        "from keras.layers import Dense"
      ],
      "execution_count": 166,
      "outputs": []
    },
    {
      "cell_type": "code",
      "metadata": {
        "id": "k8iVU3YDimFN"
      },
      "source": [
        "model = Sequential()"
      ],
      "execution_count": 167,
      "outputs": []
    },
    {
      "cell_type": "code",
      "metadata": {
        "id": "ZdKa4QirtM6z"
      },
      "source": [
        "model.add(Dense(6, input_shape = (9,), activation = 'relu'))   #from input layer"
      ],
      "execution_count": 168,
      "outputs": []
    },
    {
      "cell_type": "code",
      "metadata": {
        "id": "aFp2K7SltNst"
      },
      "source": [
        "model.add(Dense(units= 6, activation = 'relu', kernel_initializer=\"uniform\"))   #adding hidden layers"
      ],
      "execution_count": 169,
      "outputs": []
    },
    {
      "cell_type": "code",
      "metadata": {
        "id": "AQymwQDztRT5"
      },
      "source": [
        "model.add(Dense(units = 1, activation = 'sigmoid', kernel_initializer=\"uniform\"))  #to output layer"
      ],
      "execution_count": 170,
      "outputs": []
    },
    {
      "cell_type": "code",
      "metadata": {
        "id": "qnMHEtsGFtWV"
      },
      "source": [
        "model.compile(optimizer = 'adam', loss = 'binary_crossentropy', metrics = ['accuracy'])"
      ],
      "execution_count": 171,
      "outputs": []
    },
    {
      "cell_type": "code",
      "metadata": {
        "colab": {
          "base_uri": "https://localhost:8080/"
        },
        "id": "tY5iUU1fFw7W",
        "outputId": "53810f9c-ccfc-4f93-85f1-7247ff38a46a"
      },
      "source": [
        "model.fit(X_train, y_train, batch_size = 10, epochs = 100)"
      ],
      "execution_count": 172,
      "outputs": [
        {
          "output_type": "stream",
          "text": [
            "Epoch 1/100\n",
            "800/800 [==============================] - 1s 896us/step - loss: 0.5518 - accuracy: 0.7962\n",
            "Epoch 2/100\n",
            "800/800 [==============================] - 1s 894us/step - loss: 0.4988 - accuracy: 0.7968\n",
            "Epoch 3/100\n",
            "800/800 [==============================] - 1s 866us/step - loss: 0.4984 - accuracy: 0.7968\n",
            "Epoch 4/100\n",
            "800/800 [==============================] - 1s 909us/step - loss: 0.4977 - accuracy: 0.7968\n",
            "Epoch 5/100\n",
            "800/800 [==============================] - 1s 957us/step - loss: 0.4974 - accuracy: 0.7968\n",
            "Epoch 6/100\n",
            "800/800 [==============================] - 1s 986us/step - loss: 0.4968 - accuracy: 0.7968\n",
            "Epoch 7/100\n",
            "800/800 [==============================] - 1s 876us/step - loss: 0.4967 - accuracy: 0.7968\n",
            "Epoch 8/100\n",
            "800/800 [==============================] - 1s 898us/step - loss: 0.4961 - accuracy: 0.7968\n",
            "Epoch 9/100\n",
            "800/800 [==============================] - 1s 916us/step - loss: 0.4956 - accuracy: 0.7968\n",
            "Epoch 10/100\n",
            "800/800 [==============================] - 1s 915us/step - loss: 0.4954 - accuracy: 0.7968\n",
            "Epoch 11/100\n",
            "800/800 [==============================] - 1s 873us/step - loss: 0.4949 - accuracy: 0.7968\n",
            "Epoch 12/100\n",
            "800/800 [==============================] - 1s 925us/step - loss: 0.4946 - accuracy: 0.7968\n",
            "Epoch 13/100\n",
            "800/800 [==============================] - 1s 874us/step - loss: 0.4942 - accuracy: 0.7968\n",
            "Epoch 14/100\n",
            "800/800 [==============================] - 1s 877us/step - loss: 0.4935 - accuracy: 0.7968\n",
            "Epoch 15/100\n",
            "800/800 [==============================] - 1s 896us/step - loss: 0.4929 - accuracy: 0.7968\n",
            "Epoch 16/100\n",
            "800/800 [==============================] - 1s 935us/step - loss: 0.4924 - accuracy: 0.7968\n",
            "Epoch 17/100\n",
            "800/800 [==============================] - 1s 933us/step - loss: 0.4913 - accuracy: 0.7968\n",
            "Epoch 18/100\n",
            "800/800 [==============================] - 1s 878us/step - loss: 0.4894 - accuracy: 0.7968\n",
            "Epoch 19/100\n",
            "800/800 [==============================] - 1s 877us/step - loss: 0.4879 - accuracy: 0.7968\n",
            "Epoch 20/100\n",
            "800/800 [==============================] - 1s 926us/step - loss: 0.4864 - accuracy: 0.7968\n",
            "Epoch 21/100\n",
            "800/800 [==============================] - 1s 928us/step - loss: 0.4845 - accuracy: 0.7968\n",
            "Epoch 22/100\n",
            "800/800 [==============================] - 1s 864us/step - loss: 0.4827 - accuracy: 0.7968\n",
            "Epoch 23/100\n",
            "800/800 [==============================] - 1s 904us/step - loss: 0.4808 - accuracy: 0.7968\n",
            "Epoch 24/100\n",
            "800/800 [==============================] - 1s 895us/step - loss: 0.4787 - accuracy: 0.7968\n",
            "Epoch 25/100\n",
            "800/800 [==============================] - 1s 870us/step - loss: 0.4766 - accuracy: 0.7968\n",
            "Epoch 26/100\n",
            "800/800 [==============================] - 1s 895us/step - loss: 0.4751 - accuracy: 0.7968\n",
            "Epoch 27/100\n",
            "800/800 [==============================] - 1s 880us/step - loss: 0.4736 - accuracy: 0.7968\n",
            "Epoch 28/100\n",
            "800/800 [==============================] - 1s 894us/step - loss: 0.4720 - accuracy: 0.7968\n",
            "Epoch 29/100\n",
            "800/800 [==============================] - 1s 941us/step - loss: 0.4706 - accuracy: 0.7968\n",
            "Epoch 30/100\n",
            "800/800 [==============================] - 1s 983us/step - loss: 0.4683 - accuracy: 0.7968\n",
            "Epoch 31/100\n",
            "800/800 [==============================] - 1s 959us/step - loss: 0.4674 - accuracy: 0.7966\n",
            "Epoch 32/100\n",
            "800/800 [==============================] - 1s 879us/step - loss: 0.4668 - accuracy: 0.7966\n",
            "Epoch 33/100\n",
            "800/800 [==============================] - 1s 892us/step - loss: 0.4651 - accuracy: 0.7971\n",
            "Epoch 34/100\n",
            "800/800 [==============================] - 1s 897us/step - loss: 0.4646 - accuracy: 0.7970\n",
            "Epoch 35/100\n",
            "800/800 [==============================] - 1s 876us/step - loss: 0.4638 - accuracy: 0.7971\n",
            "Epoch 36/100\n",
            "800/800 [==============================] - 1s 878us/step - loss: 0.4627 - accuracy: 0.7974\n",
            "Epoch 37/100\n",
            "800/800 [==============================] - 1s 906us/step - loss: 0.4615 - accuracy: 0.7974\n",
            "Epoch 38/100\n",
            "800/800 [==============================] - 1s 876us/step - loss: 0.4615 - accuracy: 0.7977\n",
            "Epoch 39/100\n",
            "800/800 [==============================] - 1s 897us/step - loss: 0.4601 - accuracy: 0.7984\n",
            "Epoch 40/100\n",
            "800/800 [==============================] - 1s 859us/step - loss: 0.4593 - accuracy: 0.7976\n",
            "Epoch 41/100\n",
            "800/800 [==============================] - 1s 903us/step - loss: 0.4590 - accuracy: 0.7977\n",
            "Epoch 42/100\n",
            "800/800 [==============================] - 1s 863us/step - loss: 0.4587 - accuracy: 0.7983\n",
            "Epoch 43/100\n",
            "800/800 [==============================] - 1s 869us/step - loss: 0.4578 - accuracy: 0.7986\n",
            "Epoch 44/100\n",
            "800/800 [==============================] - 1s 971us/step - loss: 0.4571 - accuracy: 0.7981\n",
            "Epoch 45/100\n",
            "800/800 [==============================] - 1s 923us/step - loss: 0.4566 - accuracy: 0.7985\n",
            "Epoch 46/100\n",
            "800/800 [==============================] - 1s 946us/step - loss: 0.4560 - accuracy: 0.7985\n",
            "Epoch 47/100\n",
            "800/800 [==============================] - 1s 899us/step - loss: 0.4557 - accuracy: 0.7980\n",
            "Epoch 48/100\n",
            "800/800 [==============================] - 1s 869us/step - loss: 0.4553 - accuracy: 0.7981\n",
            "Epoch 49/100\n",
            "800/800 [==============================] - 1s 890us/step - loss: 0.4538 - accuracy: 0.7987\n",
            "Epoch 50/100\n",
            "800/800 [==============================] - 1s 866us/step - loss: 0.4547 - accuracy: 0.7985\n",
            "Epoch 51/100\n",
            "800/800 [==============================] - 1s 892us/step - loss: 0.4536 - accuracy: 0.7981\n",
            "Epoch 52/100\n",
            "800/800 [==============================] - 1s 885us/step - loss: 0.4539 - accuracy: 0.7979\n",
            "Epoch 53/100\n",
            "800/800 [==============================] - 1s 901us/step - loss: 0.4539 - accuracy: 0.7991\n",
            "Epoch 54/100\n",
            "800/800 [==============================] - 1s 894us/step - loss: 0.4540 - accuracy: 0.7991\n",
            "Epoch 55/100\n",
            "800/800 [==============================] - 1s 937us/step - loss: 0.4529 - accuracy: 0.7986\n",
            "Epoch 56/100\n",
            "800/800 [==============================] - 1s 918us/step - loss: 0.4517 - accuracy: 0.7996\n",
            "Epoch 57/100\n",
            "800/800 [==============================] - 1s 874us/step - loss: 0.4516 - accuracy: 0.7996\n",
            "Epoch 58/100\n",
            "800/800 [==============================] - 1s 895us/step - loss: 0.4510 - accuracy: 0.7993\n",
            "Epoch 59/100\n",
            "800/800 [==============================] - 1s 925us/step - loss: 0.4519 - accuracy: 0.7999\n",
            "Epoch 60/100\n",
            "800/800 [==============================] - 1s 848us/step - loss: 0.4504 - accuracy: 0.8005\n",
            "Epoch 61/100\n",
            "800/800 [==============================] - 1s 867us/step - loss: 0.4505 - accuracy: 0.8008\n",
            "Epoch 62/100\n",
            "800/800 [==============================] - 1s 975us/step - loss: 0.4503 - accuracy: 0.7999\n",
            "Epoch 63/100\n",
            "800/800 [==============================] - 1s 922us/step - loss: 0.4496 - accuracy: 0.8002\n",
            "Epoch 64/100\n",
            "800/800 [==============================] - 1s 911us/step - loss: 0.4496 - accuracy: 0.7997\n",
            "Epoch 65/100\n",
            "800/800 [==============================] - 1s 895us/step - loss: 0.4490 - accuracy: 0.8001\n",
            "Epoch 66/100\n",
            "800/800 [==============================] - 1s 899us/step - loss: 0.4496 - accuracy: 0.8001\n",
            "Epoch 67/100\n",
            "800/800 [==============================] - 1s 879us/step - loss: 0.4485 - accuracy: 0.8004\n",
            "Epoch 68/100\n",
            "800/800 [==============================] - 1s 879us/step - loss: 0.4482 - accuracy: 0.8004\n",
            "Epoch 69/100\n",
            "800/800 [==============================] - 1s 898us/step - loss: 0.4490 - accuracy: 0.7999\n",
            "Epoch 70/100\n",
            "800/800 [==============================] - 1s 932us/step - loss: 0.4472 - accuracy: 0.8001\n",
            "Epoch 71/100\n",
            "800/800 [==============================] - 1s 908us/step - loss: 0.4471 - accuracy: 0.8004\n",
            "Epoch 72/100\n",
            "800/800 [==============================] - 1s 877us/step - loss: 0.4473 - accuracy: 0.8005\n",
            "Epoch 73/100\n",
            "800/800 [==============================] - 1s 963us/step - loss: 0.4472 - accuracy: 0.8001\n",
            "Epoch 74/100\n",
            "800/800 [==============================] - 1s 926us/step - loss: 0.4469 - accuracy: 0.8016\n",
            "Epoch 75/100\n",
            "800/800 [==============================] - 1s 886us/step - loss: 0.4468 - accuracy: 0.8006\n",
            "Epoch 76/100\n",
            "800/800 [==============================] - 1s 881us/step - loss: 0.4457 - accuracy: 0.8019\n",
            "Epoch 77/100\n",
            "800/800 [==============================] - 1s 908us/step - loss: 0.4461 - accuracy: 0.8000\n",
            "Epoch 78/100\n",
            "800/800 [==============================] - 1s 927us/step - loss: 0.4457 - accuracy: 0.8008\n",
            "Epoch 79/100\n",
            "800/800 [==============================] - 1s 891us/step - loss: 0.4461 - accuracy: 0.8014\n",
            "Epoch 80/100\n",
            "800/800 [==============================] - 1s 908us/step - loss: 0.4456 - accuracy: 0.8014\n",
            "Epoch 81/100\n",
            "800/800 [==============================] - 1s 902us/step - loss: 0.4459 - accuracy: 0.8020\n",
            "Epoch 82/100\n",
            "800/800 [==============================] - 1s 904us/step - loss: 0.4452 - accuracy: 0.8018\n",
            "Epoch 83/100\n",
            "800/800 [==============================] - 1s 912us/step - loss: 0.4451 - accuracy: 0.8040\n",
            "Epoch 84/100\n",
            "800/800 [==============================] - 1s 921us/step - loss: 0.4446 - accuracy: 0.8026\n",
            "Epoch 85/100\n",
            "800/800 [==============================] - 1s 910us/step - loss: 0.4448 - accuracy: 0.8023\n",
            "Epoch 86/100\n",
            "800/800 [==============================] - 1s 966us/step - loss: 0.4453 - accuracy: 0.8027\n",
            "Epoch 87/100\n",
            "800/800 [==============================] - 1s 899us/step - loss: 0.4433 - accuracy: 0.8020\n",
            "Epoch 88/100\n",
            "800/800 [==============================] - 1s 917us/step - loss: 0.4437 - accuracy: 0.8016\n",
            "Epoch 89/100\n",
            "800/800 [==============================] - 1s 904us/step - loss: 0.4442 - accuracy: 0.8012\n",
            "Epoch 90/100\n",
            "800/800 [==============================] - 1s 897us/step - loss: 0.4432 - accuracy: 0.8021\n",
            "Epoch 91/100\n",
            "800/800 [==============================] - 1s 877us/step - loss: 0.4439 - accuracy: 0.8027\n",
            "Epoch 92/100\n",
            "800/800 [==============================] - 1s 936us/step - loss: 0.4434 - accuracy: 0.8029\n",
            "Epoch 93/100\n",
            "800/800 [==============================] - 1s 913us/step - loss: 0.4443 - accuracy: 0.8019\n",
            "Epoch 94/100\n",
            "800/800 [==============================] - 1s 905us/step - loss: 0.4433 - accuracy: 0.8014\n",
            "Epoch 95/100\n",
            "800/800 [==============================] - 1s 862us/step - loss: 0.4431 - accuracy: 0.8025\n",
            "Epoch 96/100\n",
            "800/800 [==============================] - 1s 867us/step - loss: 0.4436 - accuracy: 0.8006\n",
            "Epoch 97/100\n",
            "800/800 [==============================] - 1s 898us/step - loss: 0.4426 - accuracy: 0.8010\n",
            "Epoch 98/100\n",
            "800/800 [==============================] - 1s 898us/step - loss: 0.4423 - accuracy: 0.8036\n",
            "Epoch 99/100\n",
            "800/800 [==============================] - 1s 929us/step - loss: 0.4428 - accuracy: 0.8023\n",
            "Epoch 100/100\n",
            "800/800 [==============================] - 1s 916us/step - loss: 0.4426 - accuracy: 0.8020\n"
          ],
          "name": "stdout"
        },
        {
          "output_type": "execute_result",
          "data": {
            "text/plain": [
              "<tensorflow.python.keras.callbacks.History at 0x7fc3d818c7b8>"
            ]
          },
          "metadata": {
            "tags": []
          },
          "execution_count": 172
        }
      ]
    },
    {
      "cell_type": "code",
      "metadata": {
        "id": "TX5q7bj2tVVI",
        "colab": {
          "base_uri": "https://localhost:8080/"
        },
        "outputId": "29167f0c-e56a-49ef-d0c7-223962d46c6d"
      },
      "source": [
        "model.summary()"
      ],
      "execution_count": 173,
      "outputs": [
        {
          "output_type": "stream",
          "text": [
            "Model: \"sequential_9\"\n",
            "_________________________________________________________________\n",
            "Layer (type)                 Output Shape              Param #   \n",
            "=================================================================\n",
            "dense_29 (Dense)             (None, 6)                 60        \n",
            "_________________________________________________________________\n",
            "dense_30 (Dense)             (None, 6)                 42        \n",
            "_________________________________________________________________\n",
            "dense_31 (Dense)             (None, 1)                 7         \n",
            "=================================================================\n",
            "Total params: 109\n",
            "Trainable params: 109\n",
            "Non-trainable params: 0\n",
            "_________________________________________________________________\n"
          ],
          "name": "stdout"
        }
      ]
    },
    {
      "cell_type": "code",
      "metadata": {
        "id": "qMAwWEk6tlVa",
        "colab": {
          "base_uri": "https://localhost:8080/"
        },
        "outputId": "3b01bc1d-0714-4c43-d282-7f4a9b7f4973"
      },
      "source": [
        "loss, acc = model.evaluate(X_test, y_test, verbose=0)\n",
        "print('Accuracy: %.3f'  % acc)\n",
        "print('Loss: %.3f' % loss)"
      ],
      "execution_count": 174,
      "outputs": [
        {
          "output_type": "stream",
          "text": [
            "Accuracy: 0.807\n",
            "Loss: 0.446\n"
          ],
          "name": "stdout"
        }
      ]
    },
    {
      "cell_type": "code",
      "metadata": {
        "id": "GxqR2q55yf9J",
        "colab": {
          "base_uri": "https://localhost:8080/"
        },
        "outputId": "5c32a420-d02a-493e-ddfe-fcdf95984d1c"
      },
      "source": [
        "   model.fit(X_train, y_train, batch_size = 10, epochs = 190)"
      ],
      "execution_count": 193,
      "outputs": [
        {
          "output_type": "stream",
          "text": [
            "Epoch 1/190\n",
            "800/800 [==============================] - 1s 885us/step - loss: 0.4178 - accuracy: 0.8142\n",
            "Epoch 2/190\n",
            "800/800 [==============================] - 1s 880us/step - loss: 0.4179 - accuracy: 0.8136\n",
            "Epoch 3/190\n",
            "800/800 [==============================] - 1s 895us/step - loss: 0.4178 - accuracy: 0.8148\n",
            "Epoch 4/190\n",
            "800/800 [==============================] - 1s 865us/step - loss: 0.4181 - accuracy: 0.8158\n",
            "Epoch 5/190\n",
            "800/800 [==============================] - 1s 914us/step - loss: 0.4178 - accuracy: 0.8154\n",
            "Epoch 6/190\n",
            "800/800 [==============================] - 1s 916us/step - loss: 0.4182 - accuracy: 0.8149\n",
            "Epoch 7/190\n",
            "800/800 [==============================] - 1s 870us/step - loss: 0.4184 - accuracy: 0.8160\n",
            "Epoch 8/190\n",
            "800/800 [==============================] - 1s 893us/step - loss: 0.4177 - accuracy: 0.8158\n",
            "Epoch 9/190\n",
            "800/800 [==============================] - 1s 880us/step - loss: 0.4178 - accuracy: 0.8142\n",
            "Epoch 10/190\n",
            "800/800 [==============================] - 1s 875us/step - loss: 0.4179 - accuracy: 0.8146\n",
            "Epoch 11/190\n",
            "800/800 [==============================] - 1s 906us/step - loss: 0.4179 - accuracy: 0.8149\n",
            "Epoch 12/190\n",
            "800/800 [==============================] - 1s 992us/step - loss: 0.4184 - accuracy: 0.8138\n",
            "Epoch 13/190\n",
            "800/800 [==============================] - 1s 883us/step - loss: 0.4177 - accuracy: 0.8173\n",
            "Epoch 14/190\n",
            "800/800 [==============================] - 1s 871us/step - loss: 0.4184 - accuracy: 0.8170\n",
            "Epoch 15/190\n",
            "800/800 [==============================] - 1s 871us/step - loss: 0.4173 - accuracy: 0.8159\n",
            "Epoch 16/190\n",
            "800/800 [==============================] - 1s 982us/step - loss: 0.4181 - accuracy: 0.8151\n",
            "Epoch 17/190\n",
            "800/800 [==============================] - 1s 871us/step - loss: 0.4168 - accuracy: 0.8142\n",
            "Epoch 18/190\n",
            "800/800 [==============================] - 1s 935us/step - loss: 0.4186 - accuracy: 0.8154\n",
            "Epoch 19/190\n",
            "800/800 [==============================] - 1s 1ms/step - loss: 0.4178 - accuracy: 0.8166\n",
            "Epoch 20/190\n",
            "800/800 [==============================] - 1s 1ms/step - loss: 0.4179 - accuracy: 0.8164\n",
            "Epoch 21/190\n",
            "800/800 [==============================] - 1s 1ms/step - loss: 0.4183 - accuracy: 0.8148\n",
            "Epoch 22/190\n",
            "800/800 [==============================] - 1s 1ms/step - loss: 0.4178 - accuracy: 0.8151\n",
            "Epoch 23/190\n",
            "800/800 [==============================] - 1s 1ms/step - loss: 0.4182 - accuracy: 0.8152\n",
            "Epoch 24/190\n",
            "800/800 [==============================] - 1s 1ms/step - loss: 0.4177 - accuracy: 0.8165\n",
            "Epoch 25/190\n",
            "800/800 [==============================] - 1s 1ms/step - loss: 0.4186 - accuracy: 0.8167\n",
            "Epoch 26/190\n",
            "800/800 [==============================] - 1s 892us/step - loss: 0.4178 - accuracy: 0.8160\n",
            "Epoch 27/190\n",
            "800/800 [==============================] - 1s 868us/step - loss: 0.4181 - accuracy: 0.8152\n",
            "Epoch 28/190\n",
            "800/800 [==============================] - 1s 855us/step - loss: 0.4184 - accuracy: 0.8166\n",
            "Epoch 29/190\n",
            "800/800 [==============================] - 1s 926us/step - loss: 0.4177 - accuracy: 0.8163\n",
            "Epoch 30/190\n",
            "800/800 [==============================] - 1s 862us/step - loss: 0.4177 - accuracy: 0.8144\n",
            "Epoch 31/190\n",
            "800/800 [==============================] - 1s 890us/step - loss: 0.4179 - accuracy: 0.8152\n",
            "Epoch 32/190\n",
            "800/800 [==============================] - 1s 899us/step - loss: 0.4177 - accuracy: 0.8165\n",
            "Epoch 33/190\n",
            "800/800 [==============================] - 1s 919us/step - loss: 0.4168 - accuracy: 0.8155\n",
            "Epoch 34/190\n",
            "800/800 [==============================] - 1s 904us/step - loss: 0.4177 - accuracy: 0.8148\n",
            "Epoch 35/190\n",
            "800/800 [==============================] - 1s 896us/step - loss: 0.4181 - accuracy: 0.8171\n",
            "Epoch 36/190\n",
            "800/800 [==============================] - 1s 891us/step - loss: 0.4170 - accuracy: 0.8161\n",
            "Epoch 37/190\n",
            "800/800 [==============================] - 1s 873us/step - loss: 0.4181 - accuracy: 0.8171\n",
            "Epoch 38/190\n",
            "800/800 [==============================] - 1s 896us/step - loss: 0.4183 - accuracy: 0.8142\n",
            "Epoch 39/190\n",
            "800/800 [==============================] - 1s 934us/step - loss: 0.4172 - accuracy: 0.8166\n",
            "Epoch 40/190\n",
            "800/800 [==============================] - 1s 921us/step - loss: 0.4189 - accuracy: 0.8156\n",
            "Epoch 41/190\n",
            "800/800 [==============================] - 1s 935us/step - loss: 0.4180 - accuracy: 0.8144\n",
            "Epoch 42/190\n",
            "800/800 [==============================] - 1s 909us/step - loss: 0.4175 - accuracy: 0.8152\n",
            "Epoch 43/190\n",
            "800/800 [==============================] - 1s 897us/step - loss: 0.4180 - accuracy: 0.8166\n",
            "Epoch 44/190\n",
            "800/800 [==============================] - 1s 1000us/step - loss: 0.4181 - accuracy: 0.8152\n",
            "Epoch 45/190\n",
            "800/800 [==============================] - 1s 875us/step - loss: 0.4178 - accuracy: 0.8152\n",
            "Epoch 46/190\n",
            "800/800 [==============================] - 1s 899us/step - loss: 0.4180 - accuracy: 0.8171\n",
            "Epoch 47/190\n",
            "800/800 [==============================] - 1s 868us/step - loss: 0.4181 - accuracy: 0.8151\n",
            "Epoch 48/190\n",
            "800/800 [==============================] - 1s 921us/step - loss: 0.4178 - accuracy: 0.8158\n",
            "Epoch 49/190\n",
            "800/800 [==============================] - 1s 897us/step - loss: 0.4174 - accuracy: 0.8165\n",
            "Epoch 50/190\n",
            "800/800 [==============================] - 1s 899us/step - loss: 0.4180 - accuracy: 0.8134\n",
            "Epoch 51/190\n",
            "800/800 [==============================] - 1s 905us/step - loss: 0.4177 - accuracy: 0.8148\n",
            "Epoch 52/190\n",
            "800/800 [==============================] - 1s 905us/step - loss: 0.4170 - accuracy: 0.8154\n",
            "Epoch 53/190\n",
            "800/800 [==============================] - 1s 923us/step - loss: 0.4175 - accuracy: 0.8154\n",
            "Epoch 54/190\n",
            "800/800 [==============================] - 1s 867us/step - loss: 0.4173 - accuracy: 0.8149\n",
            "Epoch 55/190\n",
            "800/800 [==============================] - 1s 904us/step - loss: 0.4177 - accuracy: 0.8146\n",
            "Epoch 56/190\n",
            "800/800 [==============================] - 1s 875us/step - loss: 0.4171 - accuracy: 0.8146\n",
            "Epoch 57/190\n",
            "800/800 [==============================] - 1s 917us/step - loss: 0.4180 - accuracy: 0.8130\n",
            "Epoch 58/190\n",
            "800/800 [==============================] - 1s 887us/step - loss: 0.4175 - accuracy: 0.8159\n",
            "Epoch 59/190\n",
            "800/800 [==============================] - 1s 938us/step - loss: 0.4184 - accuracy: 0.8167\n",
            "Epoch 60/190\n",
            "800/800 [==============================] - 1s 902us/step - loss: 0.4179 - accuracy: 0.8136\n",
            "Epoch 61/190\n",
            "800/800 [==============================] - 1s 905us/step - loss: 0.4183 - accuracy: 0.8171\n",
            "Epoch 62/190\n",
            "800/800 [==============================] - 1s 911us/step - loss: 0.4171 - accuracy: 0.8156\n",
            "Epoch 63/190\n",
            "800/800 [==============================] - 1s 969us/step - loss: 0.4175 - accuracy: 0.8156\n",
            "Epoch 64/190\n",
            "800/800 [==============================] - 1s 901us/step - loss: 0.4178 - accuracy: 0.8148\n",
            "Epoch 65/190\n",
            "800/800 [==============================] - 1s 901us/step - loss: 0.4180 - accuracy: 0.8140\n",
            "Epoch 66/190\n",
            "800/800 [==============================] - 1s 917us/step - loss: 0.4175 - accuracy: 0.8173\n",
            "Epoch 67/190\n",
            "800/800 [==============================] - 1s 915us/step - loss: 0.4174 - accuracy: 0.8156\n",
            "Epoch 68/190\n",
            "800/800 [==============================] - 1s 926us/step - loss: 0.4179 - accuracy: 0.8154\n",
            "Epoch 69/190\n",
            "800/800 [==============================] - 1s 1ms/step - loss: 0.4184 - accuracy: 0.8163\n",
            "Epoch 70/190\n",
            "800/800 [==============================] - 1s 858us/step - loss: 0.4180 - accuracy: 0.8152\n",
            "Epoch 71/190\n",
            "800/800 [==============================] - 1s 925us/step - loss: 0.4175 - accuracy: 0.8160\n",
            "Epoch 72/190\n",
            "800/800 [==============================] - 1s 893us/step - loss: 0.4176 - accuracy: 0.8145\n",
            "Epoch 73/190\n",
            "800/800 [==============================] - 1s 937us/step - loss: 0.4176 - accuracy: 0.8142\n",
            "Epoch 74/190\n",
            "800/800 [==============================] - 1s 855us/step - loss: 0.4175 - accuracy: 0.8160\n",
            "Epoch 75/190\n",
            "800/800 [==============================] - 1s 883us/step - loss: 0.4173 - accuracy: 0.8167\n",
            "Epoch 76/190\n",
            "800/800 [==============================] - 1s 887us/step - loss: 0.4183 - accuracy: 0.8152\n",
            "Epoch 77/190\n",
            "800/800 [==============================] - 1s 1ms/step - loss: 0.4177 - accuracy: 0.8152\n",
            "Epoch 78/190\n",
            "800/800 [==============================] - 1s 879us/step - loss: 0.4182 - accuracy: 0.8152\n",
            "Epoch 79/190\n",
            "800/800 [==============================] - 1s 913us/step - loss: 0.4170 - accuracy: 0.8164\n",
            "Epoch 80/190\n",
            "800/800 [==============================] - 1s 904us/step - loss: 0.4179 - accuracy: 0.8184\n",
            "Epoch 81/190\n",
            "800/800 [==============================] - 1s 868us/step - loss: 0.4176 - accuracy: 0.8156\n",
            "Epoch 82/190\n",
            "800/800 [==============================] - 1s 913us/step - loss: 0.4177 - accuracy: 0.8156\n",
            "Epoch 83/190\n",
            "800/800 [==============================] - 1s 904us/step - loss: 0.4173 - accuracy: 0.8148\n",
            "Epoch 84/190\n",
            "800/800 [==============================] - 1s 962us/step - loss: 0.4171 - accuracy: 0.8158\n",
            "Epoch 85/190\n",
            "800/800 [==============================] - 1s 891us/step - loss: 0.4176 - accuracy: 0.8150\n",
            "Epoch 86/190\n",
            "800/800 [==============================] - 1s 924us/step - loss: 0.4177 - accuracy: 0.8160\n",
            "Epoch 87/190\n",
            "800/800 [==============================] - 1s 906us/step - loss: 0.4173 - accuracy: 0.8161\n",
            "Epoch 88/190\n",
            "800/800 [==============================] - 1s 872us/step - loss: 0.4170 - accuracy: 0.8158\n",
            "Epoch 89/190\n",
            "800/800 [==============================] - 1s 900us/step - loss: 0.4175 - accuracy: 0.8160\n",
            "Epoch 90/190\n",
            "800/800 [==============================] - 1s 944us/step - loss: 0.4168 - accuracy: 0.8167\n",
            "Epoch 91/190\n",
            "800/800 [==============================] - 1s 901us/step - loss: 0.4166 - accuracy: 0.8152\n",
            "Epoch 92/190\n",
            "800/800 [==============================] - 1s 937us/step - loss: 0.4178 - accuracy: 0.8165\n",
            "Epoch 93/190\n",
            "800/800 [==============================] - 1s 906us/step - loss: 0.4168 - accuracy: 0.8173\n",
            "Epoch 94/190\n",
            "800/800 [==============================] - 1s 913us/step - loss: 0.4178 - accuracy: 0.8161\n",
            "Epoch 95/190\n",
            "800/800 [==============================] - 1s 896us/step - loss: 0.4168 - accuracy: 0.8166\n",
            "Epoch 96/190\n",
            "800/800 [==============================] - 1s 979us/step - loss: 0.4171 - accuracy: 0.8152\n",
            "Epoch 97/190\n",
            "800/800 [==============================] - 1s 937us/step - loss: 0.4174 - accuracy: 0.8164\n",
            "Epoch 98/190\n",
            "800/800 [==============================] - 1s 927us/step - loss: 0.4176 - accuracy: 0.8166\n",
            "Epoch 99/190\n",
            "800/800 [==============================] - 1s 871us/step - loss: 0.4179 - accuracy: 0.8161\n",
            "Epoch 100/190\n",
            "800/800 [==============================] - 1s 892us/step - loss: 0.4165 - accuracy: 0.8144\n",
            "Epoch 101/190\n",
            "800/800 [==============================] - 1s 881us/step - loss: 0.4178 - accuracy: 0.8160\n",
            "Epoch 102/190\n",
            "800/800 [==============================] - 1s 909us/step - loss: 0.4175 - accuracy: 0.8167\n",
            "Epoch 103/190\n",
            "800/800 [==============================] - 1s 912us/step - loss: 0.4174 - accuracy: 0.8145\n",
            "Epoch 104/190\n",
            "800/800 [==============================] - 1s 901us/step - loss: 0.4170 - accuracy: 0.8145\n",
            "Epoch 105/190\n",
            "800/800 [==============================] - 1s 933us/step - loss: 0.4168 - accuracy: 0.8171\n",
            "Epoch 106/190\n",
            "800/800 [==============================] - 1s 895us/step - loss: 0.4172 - accuracy: 0.8163\n",
            "Epoch 107/190\n",
            "800/800 [==============================] - 1s 925us/step - loss: 0.4171 - accuracy: 0.8149\n",
            "Epoch 108/190\n",
            "800/800 [==============================] - 1s 902us/step - loss: 0.4174 - accuracy: 0.8154\n",
            "Epoch 109/190\n",
            "800/800 [==============================] - 1s 935us/step - loss: 0.4176 - accuracy: 0.8180\n",
            "Epoch 110/190\n",
            "800/800 [==============================] - 1s 937us/step - loss: 0.4165 - accuracy: 0.8174\n",
            "Epoch 111/190\n",
            "800/800 [==============================] - 1s 892us/step - loss: 0.4180 - accuracy: 0.8148\n",
            "Epoch 112/190\n",
            "800/800 [==============================] - 1s 880us/step - loss: 0.4167 - accuracy: 0.8185\n",
            "Epoch 113/190\n",
            "800/800 [==============================] - 1s 899us/step - loss: 0.4174 - accuracy: 0.8155\n",
            "Epoch 114/190\n",
            "800/800 [==============================] - 1s 915us/step - loss: 0.4179 - accuracy: 0.8173\n",
            "Epoch 115/190\n",
            "800/800 [==============================] - 1s 901us/step - loss: 0.4163 - accuracy: 0.8158\n",
            "Epoch 116/190\n",
            "800/800 [==============================] - 1s 915us/step - loss: 0.4175 - accuracy: 0.8144\n",
            "Epoch 117/190\n",
            "800/800 [==============================] - 1s 893us/step - loss: 0.4167 - accuracy: 0.8163\n",
            "Epoch 118/190\n",
            "800/800 [==============================] - 1s 918us/step - loss: 0.4182 - accuracy: 0.8164\n",
            "Epoch 119/190\n",
            "800/800 [==============================] - 1s 903us/step - loss: 0.4174 - accuracy: 0.8170\n",
            "Epoch 120/190\n",
            "800/800 [==============================] - 1s 910us/step - loss: 0.4180 - accuracy: 0.8150\n",
            "Epoch 121/190\n",
            "800/800 [==============================] - 1s 908us/step - loss: 0.4180 - accuracy: 0.8150\n",
            "Epoch 122/190\n",
            "800/800 [==============================] - 1s 901us/step - loss: 0.4171 - accuracy: 0.8164\n",
            "Epoch 123/190\n",
            "800/800 [==============================] - 1s 902us/step - loss: 0.4170 - accuracy: 0.8159\n",
            "Epoch 124/190\n",
            "800/800 [==============================] - 1s 926us/step - loss: 0.4165 - accuracy: 0.8158\n",
            "Epoch 125/190\n",
            "800/800 [==============================] - 1s 908us/step - loss: 0.4173 - accuracy: 0.8179\n",
            "Epoch 126/190\n",
            "800/800 [==============================] - 1s 915us/step - loss: 0.4175 - accuracy: 0.8151\n",
            "Epoch 127/190\n",
            "800/800 [==============================] - 1s 912us/step - loss: 0.4177 - accuracy: 0.8150\n",
            "Epoch 128/190\n",
            "800/800 [==============================] - 1s 898us/step - loss: 0.4172 - accuracy: 0.8166\n",
            "Epoch 129/190\n",
            "800/800 [==============================] - 1s 925us/step - loss: 0.4175 - accuracy: 0.8163\n",
            "Epoch 130/190\n",
            "800/800 [==============================] - 1s 907us/step - loss: 0.4170 - accuracy: 0.8160\n",
            "Epoch 131/190\n",
            "800/800 [==============================] - 1s 913us/step - loss: 0.4172 - accuracy: 0.8155\n",
            "Epoch 132/190\n",
            "800/800 [==============================] - 1s 917us/step - loss: 0.4183 - accuracy: 0.8152\n",
            "Epoch 133/190\n",
            "800/800 [==============================] - 1s 930us/step - loss: 0.4169 - accuracy: 0.8154\n",
            "Epoch 134/190\n",
            "800/800 [==============================] - 1s 929us/step - loss: 0.4175 - accuracy: 0.8144\n",
            "Epoch 135/190\n",
            "800/800 [==============================] - 1s 1ms/step - loss: 0.4179 - accuracy: 0.8155\n",
            "Epoch 136/190\n",
            "800/800 [==============================] - 1s 933us/step - loss: 0.4169 - accuracy: 0.8163\n",
            "Epoch 137/190\n",
            "800/800 [==============================] - 1s 981us/step - loss: 0.4165 - accuracy: 0.8159\n",
            "Epoch 138/190\n",
            "800/800 [==============================] - 1s 914us/step - loss: 0.4173 - accuracy: 0.8152\n",
            "Epoch 139/190\n",
            "800/800 [==============================] - 1s 895us/step - loss: 0.4169 - accuracy: 0.8155\n",
            "Epoch 140/190\n",
            "800/800 [==============================] - 1s 915us/step - loss: 0.4168 - accuracy: 0.8164\n",
            "Epoch 141/190\n",
            "800/800 [==============================] - 1s 914us/step - loss: 0.4170 - accuracy: 0.8142\n",
            "Epoch 142/190\n",
            "800/800 [==============================] - 1s 930us/step - loss: 0.4164 - accuracy: 0.8156\n",
            "Epoch 143/190\n",
            "800/800 [==============================] - 1s 912us/step - loss: 0.4174 - accuracy: 0.8170\n",
            "Epoch 144/190\n",
            "800/800 [==============================] - 1s 909us/step - loss: 0.4166 - accuracy: 0.8170\n",
            "Epoch 145/190\n",
            "800/800 [==============================] - 1s 924us/step - loss: 0.4172 - accuracy: 0.8148\n",
            "Epoch 146/190\n",
            "800/800 [==============================] - 1s 965us/step - loss: 0.4179 - accuracy: 0.8140\n",
            "Epoch 147/190\n",
            "800/800 [==============================] - 1s 912us/step - loss: 0.4169 - accuracy: 0.8177\n",
            "Epoch 148/190\n",
            "800/800 [==============================] - 1s 936us/step - loss: 0.4171 - accuracy: 0.8161\n",
            "Epoch 149/190\n",
            "800/800 [==============================] - 1s 971us/step - loss: 0.4172 - accuracy: 0.8152\n",
            "Epoch 150/190\n",
            "800/800 [==============================] - 1s 905us/step - loss: 0.4163 - accuracy: 0.8191\n",
            "Epoch 151/190\n",
            "800/800 [==============================] - 1s 912us/step - loss: 0.4167 - accuracy: 0.8158\n",
            "Epoch 152/190\n",
            "800/800 [==============================] - 1s 969us/step - loss: 0.4180 - accuracy: 0.8155\n",
            "Epoch 153/190\n",
            "800/800 [==============================] - 1s 926us/step - loss: 0.4173 - accuracy: 0.8156\n",
            "Epoch 154/190\n",
            "800/800 [==============================] - 1s 1ms/step - loss: 0.4169 - accuracy: 0.8144\n",
            "Epoch 155/190\n",
            "800/800 [==============================] - 1s 874us/step - loss: 0.4162 - accuracy: 0.8169\n",
            "Epoch 156/190\n",
            "800/800 [==============================] - 1s 981us/step - loss: 0.4155 - accuracy: 0.8171\n",
            "Epoch 157/190\n",
            "800/800 [==============================] - 1s 931us/step - loss: 0.4170 - accuracy: 0.8146\n",
            "Epoch 158/190\n",
            "800/800 [==============================] - 1s 907us/step - loss: 0.4167 - accuracy: 0.8154\n",
            "Epoch 159/190\n",
            "800/800 [==============================] - 1s 1ms/step - loss: 0.4170 - accuracy: 0.8169\n",
            "Epoch 160/190\n",
            "800/800 [==============================] - 1s 931us/step - loss: 0.4163 - accuracy: 0.8154\n",
            "Epoch 161/190\n",
            "800/800 [==============================] - 1s 973us/step - loss: 0.4166 - accuracy: 0.8165\n",
            "Epoch 162/190\n",
            "800/800 [==============================] - 1s 925us/step - loss: 0.4167 - accuracy: 0.8163\n",
            "Epoch 163/190\n",
            "800/800 [==============================] - 1s 934us/step - loss: 0.4174 - accuracy: 0.8156\n",
            "Epoch 164/190\n",
            "800/800 [==============================] - 1s 928us/step - loss: 0.4173 - accuracy: 0.8163\n",
            "Epoch 165/190\n",
            "800/800 [==============================] - 1s 919us/step - loss: 0.4158 - accuracy: 0.8155\n",
            "Epoch 166/190\n",
            "800/800 [==============================] - 1s 944us/step - loss: 0.4164 - accuracy: 0.8159\n",
            "Epoch 167/190\n",
            "800/800 [==============================] - 1s 920us/step - loss: 0.4160 - accuracy: 0.8158\n",
            "Epoch 168/190\n",
            "800/800 [==============================] - 1s 1ms/step - loss: 0.4170 - accuracy: 0.8152\n",
            "Epoch 169/190\n",
            "800/800 [==============================] - 1s 934us/step - loss: 0.4168 - accuracy: 0.8144\n",
            "Epoch 170/190\n",
            "800/800 [==============================] - 1s 938us/step - loss: 0.4163 - accuracy: 0.8155\n",
            "Epoch 171/190\n",
            "800/800 [==============================] - 1s 909us/step - loss: 0.4164 - accuracy: 0.8148\n",
            "Epoch 172/190\n",
            "800/800 [==============================] - 1s 913us/step - loss: 0.4169 - accuracy: 0.8152\n",
            "Epoch 173/190\n",
            "800/800 [==============================] - 1s 925us/step - loss: 0.4168 - accuracy: 0.8159\n",
            "Epoch 174/190\n",
            "800/800 [==============================] - 1s 934us/step - loss: 0.4165 - accuracy: 0.8154\n",
            "Epoch 175/190\n",
            "800/800 [==============================] - 1s 933us/step - loss: 0.4168 - accuracy: 0.8175\n",
            "Epoch 176/190\n",
            "800/800 [==============================] - 1s 939us/step - loss: 0.4168 - accuracy: 0.8149\n",
            "Epoch 177/190\n",
            "800/800 [==============================] - 1s 950us/step - loss: 0.4165 - accuracy: 0.8140\n",
            "Epoch 178/190\n",
            "800/800 [==============================] - 1s 922us/step - loss: 0.4161 - accuracy: 0.8155\n",
            "Epoch 179/190\n",
            "800/800 [==============================] - 1s 923us/step - loss: 0.4174 - accuracy: 0.8150\n",
            "Epoch 180/190\n",
            "800/800 [==============================] - 1s 970us/step - loss: 0.4166 - accuracy: 0.8152\n",
            "Epoch 181/190\n",
            "800/800 [==============================] - 1s 924us/step - loss: 0.4164 - accuracy: 0.8134\n",
            "Epoch 182/190\n",
            "800/800 [==============================] - 1s 922us/step - loss: 0.4160 - accuracy: 0.8150\n",
            "Epoch 183/190\n",
            "800/800 [==============================] - 1s 927us/step - loss: 0.4161 - accuracy: 0.8155\n",
            "Epoch 184/190\n",
            "800/800 [==============================] - 1s 964us/step - loss: 0.4173 - accuracy: 0.8163\n",
            "Epoch 185/190\n",
            "800/800 [==============================] - 1s 925us/step - loss: 0.4164 - accuracy: 0.8145\n",
            "Epoch 186/190\n",
            "800/800 [==============================] - 1s 995us/step - loss: 0.4162 - accuracy: 0.8161\n",
            "Epoch 187/190\n",
            "800/800 [==============================] - 1s 910us/step - loss: 0.4176 - accuracy: 0.8152\n",
            "Epoch 188/190\n",
            "800/800 [==============================] - 1s 912us/step - loss: 0.4168 - accuracy: 0.8146\n",
            "Epoch 189/190\n",
            "800/800 [==============================] - 1s 927us/step - loss: 0.4160 - accuracy: 0.8166\n",
            "Epoch 190/190\n",
            "800/800 [==============================] - 1s 939us/step - loss: 0.4164 - accuracy: 0.8169\n"
          ],
          "name": "stdout"
        },
        {
          "output_type": "execute_result",
          "data": {
            "text/plain": [
              "<tensorflow.python.keras.callbacks.History at 0x7fc3d67bf4e0>"
            ]
          },
          "metadata": {
            "tags": []
          },
          "execution_count": 193
        }
      ]
    },
    {
      "cell_type": "code",
      "metadata": {
        "id": "Xp6soqtT6EhM",
        "colab": {
          "base_uri": "https://localhost:8080/"
        },
        "outputId": "b76ee597-df62-4bda-dd81-df3a2430e5d0"
      },
      "source": [
        "loss, acc = model.evaluate(X_test, y_test, verbose=0)\n",
        "print('Accuracy: %.3f'  % acc)\n",
        "print('Loss: %.3f' % loss)\n",
        "\n",
        "#we get better result with epochs=190"
      ],
      "execution_count": 198,
      "outputs": [
        {
          "output_type": "stream",
          "text": [
            "Accuracy: 0.811\n",
            "Loss: 0.428\n"
          ],
          "name": "stdout"
        }
      ]
    },
    {
      "cell_type": "markdown",
      "metadata": {
        "id": "BA7jOcFKlWJD"
      },
      "source": [
        "**7. Predict the results using 0.5 as a threshold (10 points)**"
      ]
    },
    {
      "cell_type": "code",
      "metadata": {
        "colab": {
          "base_uri": "https://localhost:8080/"
        },
        "id": "jrTtPJy7jY2T",
        "outputId": "b67aaf09-4abe-4a83-fe95-340c162963ea"
      },
      "source": [
        "y_pred = model.predict(X_test)\n",
        "y_pred = (y_pred > 0.5) #if y_pred is larger than 0.5 it returns true(1) else false(2)\n",
        "print(y_pred)"
      ],
      "execution_count": 195,
      "outputs": [
        {
          "output_type": "stream",
          "text": [
            "[[False]\n",
            " [False]\n",
            " [False]\n",
            " ...\n",
            " [False]\n",
            " [False]\n",
            " [False]]\n"
          ],
          "name": "stdout"
        }
      ]
    },
    {
      "cell_type": "markdown",
      "metadata": {
        "id": "pveKK0JglaIx"
      },
      "source": [
        "**8. Print the Accuracy score and confusion matrix (5 points)**"
      ]
    },
    {
      "cell_type": "code",
      "metadata": {
        "colab": {
          "base_uri": "https://localhost:8080/"
        },
        "id": "aZfeyqrfjYnC",
        "outputId": "ac203af1-a5f7-47a3-a4a4-fa3eed7a17ca"
      },
      "source": [
        "from sklearn.metrics import confusion_matrix\n",
        "cm = confusion_matrix(y_test, y_pred)\n",
        "print(cm)"
      ],
      "execution_count": 196,
      "outputs": [
        {
          "output_type": "stream",
          "text": [
            "[[1527   62]\n",
            " [ 317   94]]\n"
          ],
          "name": "stdout"
        }
      ]
    },
    {
      "cell_type": "code",
      "metadata": {
        "colab": {
          "base_uri": "https://localhost:8080/"
        },
        "id": "0bwJohhUvv7u",
        "outputId": "142dd673-8075-4a5e-bd98-e1541e27b253"
      },
      "source": [
        "cr=metrics.classification_report(y_test,y_pred)\n",
        "print(cr)"
      ],
      "execution_count": 197,
      "outputs": [
        {
          "output_type": "stream",
          "text": [
            "              precision    recall  f1-score   support\n",
            "\n",
            "           0       0.83      0.96      0.89      1589\n",
            "           1       0.60      0.23      0.33       411\n",
            "\n",
            "    accuracy                           0.81      2000\n",
            "   macro avg       0.72      0.59      0.61      2000\n",
            "weighted avg       0.78      0.81      0.77      2000\n",
            "\n"
          ],
          "name": "stdout"
        }
      ]
    },
    {
      "cell_type": "markdown",
      "metadata": {
        "id": "7gstKR56j4Zw"
      },
      "source": [
        "* From the above condusion matrix, our True positive rates and true negative rates are high which is good. False negative case of 317 is not a problem in our context as the customers are anyways staying and not churning. False positive rate is low which is what we want.\n",
        "Accuracy rates are also nearly 81% which is really good in our case.\n",
        "Hence our model seems to be working pretty well!! "
      ]
    },
    {
      "cell_type": "code",
      "metadata": {
        "id": "ey9fK46vsUSW"
      },
      "source": [
        ""
      ],
      "execution_count": 178,
      "outputs": []
    }
  ]
}